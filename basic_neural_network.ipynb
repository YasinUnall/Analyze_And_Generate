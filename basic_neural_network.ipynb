{
 "cells": [
  {
   "cell_type": "code",
   "execution_count": 10,
   "metadata": {},
   "outputs": [],
   "source": [
    "words = open(\"names.txt\", encoding=\"utf-8\").read().splitlines()\n",
    "words = [i.strip() for i in words if i]\n",
    "\n",
    "# getting the char library from data set\n",
    "all_data = ''.join(words)\n",
    "chars = sorted(list(set(all_data)))\n",
    "\n",
    "stoi = {val:key+1 for key, val in enumerate(chars)}\n",
    "stoi['|'] = 0\n",
    "itos = {ind:st for st, ind in stoi.items()}"
   ]
  },
  {
   "cell_type": "code",
   "execution_count": 11,
   "metadata": {},
   "outputs": [],
   "source": [
    "import torch\n",
    "import torch.nn.functional as F"
   ]
  },
  {
   "cell_type": "code",
   "execution_count": 12,
   "metadata": {},
   "outputs": [
    {
     "name": "stdout",
     "output_type": "stream",
     "text": [
      "Library length: 228146\n"
     ]
    }
   ],
   "source": [
    "inputs = []\n",
    "targets = []\n",
    "\n",
    "for w in words:\n",
    "    new_w = [\"|\"] + list(w) + [\"|\"] # these symbols for indicating start and end of word\n",
    "    for ch1, ch2 in zip(new_w, new_w[1:]):\n",
    "        ix1 = stoi[ch1]\n",
    "        ix2 = stoi[ch2]\n",
    "        inputs.append(ix1)\n",
    "        targets.append(ix2)\n",
    "\n",
    "inputs = torch.tensor(inputs)\n",
    "targets = torch.tensor(targets)\n",
    "lib_len = inputs.nelement()\n",
    "\n",
    "print(f'Library length: {lib_len}')\n",
    "\n",
    "# initialize the 'network'\n",
    "g = torch.Generator().manual_seed(412987498012)\n",
    "\n",
    "ch_library_len = len(stoi)\n",
    "W = torch.randn((ch_library_len, ch_library_len), generator=g, requires_grad=True)"
   ]
  },
  {
   "cell_type": "code",
   "execution_count": 13,
   "metadata": {},
   "outputs": [
    {
     "name": "stdout",
     "output_type": "stream",
     "text": [
      "Normalized Likelihood (Loss): 2.4626340866088867\n"
     ]
    }
   ],
   "source": [
    "loss = 0\n",
    "\n",
    "# gradient descent - you can lower the iteration count to see \n",
    "# outputs with not optimized seed\n",
    "for k in range(200):\n",
    "    # forward pass\n",
    "    xenc = F.one_hot(inputs, num_classes=ch_library_len).float() # input to the network\n",
    "    logits = xenc @ W # predict log-counts\n",
    "    counts = logits.exp() # counts, equivalent to N\n",
    "    probs = counts / counts.sum(1, keepdims=True) # probabilities for next character\n",
    "    # print(f'Probabilities: ', probs)\n",
    "    loss = -probs[torch.arange(lib_len), targets].log().mean()\n",
    "\n",
    "    # backward pass\n",
    "    W.grad = None\n",
    "    loss.backward()\n",
    "\n",
    "    # update\n",
    "    W.data += -50 * W.grad\n",
    "\n",
    "print(f'Normalized Likelihood (Loss): {loss.item()}')"
   ]
  },
  {
   "cell_type": "code",
   "execution_count": 14,
   "metadata": {},
   "outputs": [],
   "source": [
    "word_lens = [len(w) for w in words]\n",
    "word_lens = torch.tensor(word_lens)\n",
    "\n",
    "wlenc = F.one_hot(word_lens, num_classes=max(word_lens).item() + 1)\n",
    "lengths = wlenc.sum(0) # [n, n] -> [n] by adding all columns respectively\n",
    "\n",
    "# frequency table of word lengths of data\n",
    "len_frequency = lengths / lengths.sum()"
   ]
  },
  {
   "cell_type": "code",
   "execution_count": 15,
   "metadata": {},
   "outputs": [
    {
     "name": "stdout",
     "output_type": "stream",
     "text": [
      "vomiilal\n",
      "hoboroni\n",
      "kalanee\n",
      "brrinte\n",
      "kefamie\n"
     ]
    }
   ],
   "source": [
    "g = torch.Generator().manual_seed(412987498012)\n",
    "w_lens = torch.multinomial(len_frequency, num_samples=5, replacement=True, generator=g)\n",
    "for w_len in w_lens.data:\n",
    "\n",
    "    ix = 0\n",
    "    name = []\n",
    "    i = w_len.item()\n",
    "    while i != 0:\n",
    "        wenc = F.one_hot(torch.tensor([ix]), num_classes=ch_library_len).float()\n",
    "        logits = wenc @ W # predicting log-counts\n",
    "        counts = logits.exp() # exponanciating - getting real counts, no negatives\n",
    "        prob_of_next_char = counts / counts.sum(1, keepdim=True)\n",
    "\n",
    "        ix = torch.multinomial(\n",
    "            prob_of_next_char, num_samples=1, replacement=True, generator=g\n",
    "            ).item()\n",
    "        name.append(itos[ix])\n",
    "\n",
    "        if ix == 0 and i - 1 != 0:\n",
    "            name = []\n",
    "            i = w_len.item()\n",
    "        else : i -= 1\n",
    "    print(''.join(name))"
   ]
  }
 ],
 "metadata": {
  "kernelspec": {
   "display_name": "ai-stuff",
   "language": "python",
   "name": "python3"
  },
  "language_info": {
   "codemirror_mode": {
    "name": "ipython",
    "version": 3
   },
   "file_extension": ".py",
   "mimetype": "text/x-python",
   "name": "python",
   "nbconvert_exporter": "python",
   "pygments_lexer": "ipython3",
   "version": "3.10.11"
  },
  "orig_nbformat": 4
 },
 "nbformat": 4,
 "nbformat_minor": 2
}
