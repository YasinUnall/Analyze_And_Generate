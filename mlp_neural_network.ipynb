{
 "cells": [
  {
   "cell_type": "code",
   "execution_count": 23,
   "metadata": {},
   "outputs": [],
   "source": [
    "import torch\n",
    "import torch.nn.functional as F\n",
    "import matplotlib.pyplot as plt # for visualising"
   ]
  },
  {
   "cell_type": "code",
   "execution_count": 24,
   "metadata": {},
   "outputs": [],
   "source": [
    "# read in all the words\n",
    "words = open(\"data.txt\", encoding=\"utf-8\").read().splitlines()\n",
    "words = [i.strip() for i in words if i]"
   ]
  },
  {
   "cell_type": "code",
   "execution_count": 25,
   "metadata": {},
   "outputs": [
    {
     "data": {
      "text/plain": [
       "905"
      ]
     },
     "execution_count": 25,
     "metadata": {},
     "output_type": "execute_result"
    }
   ],
   "source": [
    "len(words)"
   ]
  },
  {
   "cell_type": "code",
   "execution_count": 26,
   "metadata": {},
   "outputs": [
    {
     "name": "stdout",
     "output_type": "stream",
     "text": [
      "{1: '-', 2: 'a', 3: 'b', 4: 'c', 5: 'd', 6: 'e', 7: 'f', 8: 'g', 9: 'h', 10: 'i', 11: 'j', 12: 'k', 13: 'l', 14: 'm', 15: 'n', 16: 'o', 17: 'p', 18: 'q', 19: 'r', 20: 's', 21: 't', 22: 'u', 23: 'v', 24: 'w', 25: 'x', 26: 'y', 27: 'z', 28: 'é', 29: 'ë', 30: 'í', 31: 'ó', 32: 'ú', 33: 'û', 34: '’', 0: '|'}\n"
     ]
    }
   ],
   "source": [
    "# build the vocabulary of characters and mappings to /from integers\n",
    "chars = sorted(list(set(''.join(words)))) # getting the character library\n",
    "lib_len = len(chars)\n",
    "stoi = {val:key+1 for key, val in enumerate(chars)}\n",
    "stoi['|'] = 0\n",
    "itos = {ind:st for st, ind in stoi.items()}\n",
    "print(itos)"
   ]
  },
  {
   "cell_type": "code",
   "execution_count": 27,
   "metadata": {},
   "outputs": [
    {
     "name": "stdout",
     "output_type": "stream",
     "text": [
      "aego\n",
      "||| ---> a\n",
      "||a ---> e\n",
      "|ae ---> g\n",
      "aeg ---> o\n",
      "ego ---> |\n",
      "aelrindel\n",
      "||| ---> a\n",
      "||a ---> e\n",
      "|ae ---> l\n",
      "ael ---> r\n",
      "elr ---> i\n",
      "lri ---> n\n",
      "rin ---> d\n",
      "ind ---> e\n",
      "nde ---> l\n",
      "del ---> |\n",
      "aerendyl\n",
      "||| ---> a\n",
      "||a ---> e\n",
      "|ae ---> r\n",
      "aer ---> e\n",
      "ere ---> n\n",
      "ren ---> d\n",
      "end ---> y\n",
      "ndy ---> l\n",
      "dyl ---> |\n",
      "aeson\n",
      "||| ---> a\n",
      "||a ---> e\n",
      "|ae ---> s\n",
      "aes ---> o\n",
      "eso ---> n\n",
      "son ---> |\n",
      "afamrail\n",
      "||| ---> a\n",
      "||a ---> f\n",
      "|af ---> a\n",
      "afa ---> m\n",
      "fam ---> r\n",
      "amr ---> a\n",
      "mra ---> i\n",
      "rai ---> l\n",
      "ail ---> |\n"
     ]
    }
   ],
   "source": [
    "# building the dataset\n",
    "\n",
    "block_size = 3 # context length: how many characters we take to predict the next one\n",
    "dim_size = 2\n",
    "X, Y = [], []\n",
    "\n",
    "for w in words[:5]:\n",
    "    print(w)\n",
    "    context = [0] * block_size\n",
    "\n",
    "    for ch in w + '|':\n",
    "        ix = stoi[ch]\n",
    "        X.append(context)\n",
    "        Y.append(ix)\n",
    "        print(''.join(itos[i] for i in context), '--->', itos[ix])\n",
    "        context = context[1:] + [ix] # crop and append\n",
    "\n",
    "X = torch.tensor(X)\n",
    "Y = torch.tensor(Y)"
   ]
  },
  {
   "cell_type": "code",
   "execution_count": 28,
   "metadata": {},
   "outputs": [
    {
     "data": {
      "text/plain": [
       "(torch.Size([39, 3]), torch.int64, torch.Size([39]), torch.int64)"
      ]
     },
     "execution_count": 28,
     "metadata": {},
     "output_type": "execute_result"
    }
   ],
   "source": [
    "X.shape, X.dtype, Y.shape, Y.dtype"
   ]
  },
  {
   "cell_type": "code",
   "execution_count": 29,
   "metadata": {},
   "outputs": [],
   "source": [
    "h_neuron_count = 100\n",
    "g = torch.Generator().manual_seed(412987498012)\n",
    "C = torch.randn((lib_len, dim_size), generator=g)\n",
    "W1 = torch.randn((block_size * dim_size, h_neuron_count), generator=g) # weights\n",
    "b1 = torch.randn(h_neuron_count, generator=g) # biases\n",
    "W2 = torch.randn((h_neuron_count, lib_len), generator=g) # weights for output layer\n",
    "b2 = torch.randn(lib_len, generator=g) # biases for output layer\n",
    "parameters = [C, W1, b1, W2, b2]"
   ]
  },
  {
   "cell_type": "code",
   "execution_count": 30,
   "metadata": {},
   "outputs": [
    {
     "data": {
      "text/plain": [
       "4202"
      ]
     },
     "execution_count": 30,
     "metadata": {},
     "output_type": "execute_result"
    }
   ],
   "source": [
    "sum(p.nelement() for p in parameters) # parameter count"
   ]
  },
  {
   "cell_type": "code",
   "execution_count": 38,
   "metadata": {},
   "outputs": [
    {
     "name": "stdout",
     "output_type": "stream",
     "text": [
      "tensor(15.6207)\n"
     ]
    }
   ],
   "source": [
    "# forward pass\n",
    "emb = C[X]\n",
    "h = torch.tanh(emb.view(-1, block_size * dim_size) @ W1 + b1) # hidden layer\n",
    "logits = h @ W2 + b2\n",
    "# counts = logits.exp()\n",
    "# probs = counts / counts.sum(1, keepdims=True)\n",
    "# loss = -probs[torch.arange(len(Y)), Y].log().mean()\n",
    "loss = F.cross_entropy(logits, Y) # More readable and efficient way to calculate loss\n",
    "print(loss)"
   ]
  },
  {
   "cell_type": "code",
   "execution_count": null,
   "metadata": {},
   "outputs": [],
   "source": []
  }
 ],
 "metadata": {
  "kernelspec": {
   "display_name": "ai-stuff",
   "language": "python",
   "name": "python3"
  },
  "language_info": {
   "codemirror_mode": {
    "name": "ipython",
    "version": 3
   },
   "file_extension": ".py",
   "mimetype": "text/x-python",
   "name": "python",
   "nbconvert_exporter": "python",
   "pygments_lexer": "ipython3",
   "version": "3.10.11"
  },
  "orig_nbformat": 4
 },
 "nbformat": 4,
 "nbformat_minor": 2
}
