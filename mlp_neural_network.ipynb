{
 "cells": [
  {
   "cell_type": "code",
   "execution_count": 366,
   "metadata": {},
   "outputs": [],
   "source": [
    "import torch\n",
    "import torch.nn.functional as F\n",
    "import matplotlib.pyplot as plt # for visualising"
   ]
  },
  {
   "cell_type": "code",
   "execution_count": 367,
   "metadata": {},
   "outputs": [],
   "source": [
    "# read in all the words\n",
    "words = open(\"names.txt\", encoding=\"utf-8\").read().splitlines()\n",
    "words = [i.strip() for i in words if i]"
   ]
  },
  {
   "cell_type": "code",
   "execution_count": 368,
   "metadata": {},
   "outputs": [
    {
     "data": {
      "text/plain": [
       "32033"
      ]
     },
     "execution_count": 368,
     "metadata": {},
     "output_type": "execute_result"
    }
   ],
   "source": [
    "len(words)"
   ]
  },
  {
   "cell_type": "code",
   "execution_count": 369,
   "metadata": {},
   "outputs": [
    {
     "name": "stdout",
     "output_type": "stream",
     "text": [
      "{1: 'a', 2: 'b', 3: 'c', 4: 'd', 5: 'e', 6: 'f', 7: 'g', 8: 'h', 9: 'i', 10: 'j', 11: 'k', 12: 'l', 13: 'm', 14: 'n', 15: 'o', 16: 'p', 17: 'q', 18: 'r', 19: 's', 20: 't', 21: 'u', 22: 'v', 23: 'w', 24: 'x', 25: 'y', 26: 'z', 0: '|'}\n"
     ]
    }
   ],
   "source": [
    "# build the vocabulary of characters and mappings to /from integers\n",
    "chars = sorted(list(set(''.join(words)))) # getting the character library\n",
    "stoi = {val:key+1 for key, val in enumerate(chars)}\n",
    "stoi['|'] = 0\n",
    "itos = {ind:st for st, ind in stoi.items()}\n",
    "print(itos)\n",
    "lib_len = len(itos)"
   ]
  },
  {
   "cell_type": "code",
   "execution_count": 370,
   "metadata": {},
   "outputs": [],
   "source": [
    "# building the dataset\n",
    "\n",
    "block_size = 3 # context length: how many characters we take to predict the next one\n",
    "dim_size = 10\n",
    "X, Y = [], []\n",
    "\n",
    "for w in words:\n",
    "    # print(w)\n",
    "    context = [0] * block_size\n",
    "\n",
    "    for ch in w + '|':\n",
    "        ix = stoi[ch]\n",
    "        X.append(context)\n",
    "        Y.append(ix)\n",
    "        # print(''.join(itos[i] for i in context), '--->', itos[ix])\n",
    "        context = context[1:] + [ix] # crop and append\n",
    "\n",
    "X = torch.tensor(X)\n",
    "Y = torch.tensor(Y)"
   ]
  },
  {
   "cell_type": "code",
   "execution_count": 371,
   "metadata": {},
   "outputs": [
    {
     "data": {
      "text/plain": [
       "(torch.Size([228146, 3]), torch.int64, torch.Size([228146]), torch.int64)"
      ]
     },
     "execution_count": 371,
     "metadata": {},
     "output_type": "execute_result"
    }
   ],
   "source": [
    "X.shape, X.dtype, Y.shape, Y.dtype"
   ]
  },
  {
   "cell_type": "code",
   "execution_count": 372,
   "metadata": {},
   "outputs": [
    {
     "name": "stdout",
     "output_type": "stream",
     "text": [
      "torch.Size([182625, 3]) torch.Size([182625])\n",
      "torch.Size([22655, 3]) torch.Size([22655])\n",
      "torch.Size([22866, 3]) torch.Size([22866])\n"
     ]
    }
   ],
   "source": [
    "# building the dataset\n",
    "def build_dataset(words):    \n",
    "    block_size = 3 # context length: how many characters we take to predict the next one\n",
    "    X, Y = [], []\n",
    "\n",
    "    for w in words:\n",
    "        # print(w)\n",
    "        context = [0] * block_size\n",
    "\n",
    "        for ch in w + '|':\n",
    "            ix = stoi[ch]\n",
    "            X.append(context)\n",
    "            Y.append(ix)\n",
    "            # print(''.join(itos[i] for i in context), '--->', itos[ix])\n",
    "            context = context[1:] + [ix] # crop and append\n",
    "\n",
    "    X = torch.tensor(X)\n",
    "    Y = torch.tensor(Y)\n",
    "    print(X.shape, Y.shape)\n",
    "    return X, Y\n",
    "\n",
    "import random\n",
    "random.seed(42)\n",
    "random.shuffle(words)\n",
    "checkpoint_train = int(0.8 * len(words))\n",
    "checkpoint_dev = int(0.9 * len(words))\n",
    "\n",
    "X_train, Y_train = build_dataset(words[:checkpoint_train])\n",
    "X_dev, Y_dev = build_dataset(words[checkpoint_train:checkpoint_dev])\n",
    "X_test, Y_test = build_dataset(words[checkpoint_dev:])"
   ]
  },
  {
   "cell_type": "code",
   "execution_count": 373,
   "metadata": {},
   "outputs": [],
   "source": [
    "h_neuron_count = 200\n",
    "g = torch.Generator().manual_seed(412987498012)\n",
    "C = torch.randn((lib_len, dim_size), generator=g)\n",
    "W1 = torch.randn((block_size * dim_size, h_neuron_count), generator=g) # weights\n",
    "b1 = torch.randn(h_neuron_count, generator=g) # biases\n",
    "W2 = torch.randn((h_neuron_count, lib_len), generator=g) # weights for output layer\n",
    "b2 = torch.randn(lib_len, generator=g) # biases for output layer\n",
    "parameters = [C, W1, b1, W2, b2]"
   ]
  },
  {
   "cell_type": "code",
   "execution_count": 374,
   "metadata": {},
   "outputs": [
    {
     "data": {
      "text/plain": [
       "11897"
      ]
     },
     "execution_count": 374,
     "metadata": {},
     "output_type": "execute_result"
    }
   ],
   "source": [
    "sum(p.nelement() for p in parameters) # parameter count"
   ]
  },
  {
   "cell_type": "code",
   "execution_count": 375,
   "metadata": {},
   "outputs": [],
   "source": [
    "for p in parameters:\n",
    "    p.requires_grad = True"
   ]
  },
  {
   "cell_type": "code",
   "execution_count": 383,
   "metadata": {},
   "outputs": [],
   "source": [
    "lre = torch.linspace(-3, 0, 1000) # 1000 numbers between -3 and 0 - equal distances\n",
    "lrs = 10**lre\n",
    "lri = []\n",
    "loss_i = []\n",
    "step_i = []\n",
    "learning_rate = 0.01"
   ]
  },
  {
   "cell_type": "code",
   "execution_count": 384,
   "metadata": {},
   "outputs": [
    {
     "name": "stdout",
     "output_type": "stream",
     "text": [
      "2.291602849960327\n"
     ]
    }
   ],
   "source": [
    "\n",
    "for i in range(50000):\n",
    "    # forward pass\n",
    "    ix = torch.randint(0, X_train.shape[0], (34,))\n",
    "    # print(ix.shape)\n",
    "\n",
    "    emb = C[X_train[ix]]\n",
    "    h = torch.tanh(emb.view(-1, block_size * dim_size) @ W1 + b1) # hidden layer\n",
    "    logits = h @ W2 + b2\n",
    "    # counts = logits.exp()\n",
    "    # probs = counts / counts.sum(1, keepdims=True)\n",
    "    # loss = -probs[torch.arange(len(Y)), Y].log().mean()\n",
    "    loss = F.cross_entropy(logits, Y_train[ix]) # More readable and efficient way to calculate loss\n",
    "    \n",
    "    #backward pass\n",
    "    for p in parameters:\n",
    "        p.grad = None\n",
    "    loss.backward()\n",
    "\n",
    "    # update\n",
    "    # learning_rate = lrs[i]\n",
    "    for p in parameters:\n",
    "        p.data += -learning_rate * p.grad\n",
    "\n",
    "    # stats tracking\n",
    "    # lri.append(lre[i])\n",
    "    step_i.append(i)\n",
    "    loss_i.append(loss.log10().item())\n",
    "\n",
    "print(loss.item())"
   ]
  },
  {
   "cell_type": "code",
   "execution_count": null,
   "metadata": {},
   "outputs": [],
   "source": [
    "# plt.plot(step_i, loss_i)\n",
    "# plt.plot(lri, loss_i)\n",
    "C[X].shape, W1.shape"
   ]
  },
  {
   "cell_type": "code",
   "execution_count": 385,
   "metadata": {},
   "outputs": [
    {
     "name": "stdout",
     "output_type": "stream",
     "text": [
      "2.105282783508301\n"
     ]
    }
   ],
   "source": [
    "emb = C[X_train]\n",
    "h = torch.tanh(emb.view(-1, block_size * dim_size) @ W1 + b1)\n",
    "# print(h.shape)\n",
    "logits = h @ W2 + b2\n",
    "# print(logits.shape)\n",
    "loss = F.cross_entropy(logits, Y_train)\n",
    "print(loss.item())"
   ]
  },
  {
   "cell_type": "code",
   "execution_count": 386,
   "metadata": {},
   "outputs": [
    {
     "name": "stdout",
     "output_type": "stream",
     "text": [
      "2.1474034786224365\n"
     ]
    }
   ],
   "source": [
    "emb = C[X_dev]\n",
    "h = torch.tanh(emb.view(-1, block_size * dim_size) @ W1 + b1)\n",
    "logits = h @ W2 + b2\n",
    "loss = F.cross_entropy(logits, Y_dev)\n",
    "print(loss.item())"
   ]
  },
  {
   "cell_type": "code",
   "execution_count": 389,
   "metadata": {},
   "outputs": [
    {
     "name": "stdout",
     "output_type": "stream",
     "text": [
      "prig|\n",
      "joha|\n",
      "shaqi|\n",
      "pomiil|\n",
      "leyi|\n",
      "zayah|\n",
      "nachoralyina|\n",
      "brys|\n",
      "kenne|\n",
      "jaysi|\n",
      "mike|\n",
      "kalanden|\n",
      "itzariet|\n",
      "arth|\n",
      "kena|\n",
      "iselizen|\n",
      "josie|\n",
      "dayse|\n",
      "maau|\n",
      "aria|\n"
     ]
    }
   ],
   "source": [
    "# generating names\n",
    "g = torch.Generator().manual_seed(412987498012)\n",
    "\n",
    "for _ in range(20):\n",
    "    out = []\n",
    "    context = [0] * block_size\n",
    "    while True:\n",
    "        emb = C[torch.tensor([context])]\n",
    "        h = torch.tanh(emb.view(1, -1) @ W1 + b1)\n",
    "        logits = h @ W2 + b2\n",
    "        probs = F.softmax(logits, dim=1)\n",
    "        ix = torch.multinomial(probs, num_samples=1, generator=g).item()\n",
    "        context = context[1:] + [ix]\n",
    "        out.append(ix)\n",
    "        if ix == 0:\n",
    "            break\n",
    "\n",
    "    print(''.join(itos[ch] for ch in out))"
   ]
  },
  {
   "cell_type": "code",
   "execution_count": 390,
   "metadata": {},
   "outputs": [],
   "source": [
    "# generating names with considering name length frequency\n",
    "\n",
    "word_lens = [len(w) for w in words]\n",
    "word_lens = torch.tensor(word_lens)\n",
    "\n",
    "wlenc = F.one_hot(word_lens, num_classes=max(word_lens).item() + 1)\n",
    "lengths = wlenc.sum(0) # [n, n] -> [n] by adding all columns respectively\n",
    "\n",
    "# frequency table of word lengths of data\n",
    "len_frequency = lengths / lengths.sum()"
   ]
  },
  {
   "cell_type": "code",
   "execution_count": 391,
   "metadata": {},
   "outputs": [
    {
     "name": "stdout",
     "output_type": "stream",
     "text": [
      "adelilie\n",
      "duzail\n",
      "gorbyn\n",
      "nashu\n",
      "chriend\n",
      "ciylyn|\n",
      "brihar\n",
      "innio\n",
      "khalin\n",
      "jayla\n",
      "salderenc\n",
      "jorin\n",
      "angelon\n",
      "kmalaira\n",
      "pailey|\n",
      "corihan|\n",
      "jacin\n",
      "milia\n",
      "ndhomi\n",
      "deboaxe\n"
     ]
    }
   ],
   "source": [
    "w_lens = torch.multinomial(len_frequency, num_samples=20, replacement=True, generator=g)\n",
    "for w_len in w_lens.data :\n",
    "    out = []\n",
    "    context = [0] * block_size\n",
    "    i = w_len.item()\n",
    "    while i != 0:\n",
    "        emb = C[torch.tensor([context])]\n",
    "        h = torch.tanh(emb.view(1, -1) @ W1 + b1)\n",
    "        logits = h @ W2 + b2\n",
    "        probs = F.softmax(logits, dim=1)\n",
    "        ix = torch.multinomial(probs, num_samples=1, generator=g).item()\n",
    "        context = context[1:] + [ix]\n",
    "        out.append(ix)\n",
    "        if ix == 0 and i - 1 != 0:\n",
    "            out = []\n",
    "            context = [0] * block_size\n",
    "            i = w_len.item()\n",
    "        else : i -= 1\n",
    "\n",
    "    print(''.join(itos[ch] for ch in out))"
   ]
  }
 ],
 "metadata": {
  "kernelspec": {
   "display_name": "ai-stuff",
   "language": "python",
   "name": "python3"
  },
  "language_info": {
   "codemirror_mode": {
    "name": "ipython",
    "version": 3
   },
   "file_extension": ".py",
   "mimetype": "text/x-python",
   "name": "python",
   "nbconvert_exporter": "python",
   "pygments_lexer": "ipython3",
   "version": "3.10.11"
  },
  "orig_nbformat": 4
 },
 "nbformat": 4,
 "nbformat_minor": 2
}
